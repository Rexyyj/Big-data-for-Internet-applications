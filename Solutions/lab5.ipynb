{
 "cells": [
  {
   "cell_type": "markdown",
   "metadata": {},
   "source": [
    "# 1.Input data"
   ]
  },
  {
   "cell_type": "code",
   "execution_count": 2,
   "metadata": {},
   "outputs": [],
   "source": [
    "airportsDF = spark.read.load(\"/data/students/bigdata_internet/lab5/airports.csv\",\n",
    "                        format=\"csv\",\n",
    "                        header=True,\n",
    "                        inferSchema=True)\n",
    "airlinesDF = spark.read.load(\"/data/students/bigdata_internet/lab5/airlines.csv\",\n",
    "                        format=\"csv\",\n",
    "                        header=True,\n",
    "                        inferSchema=True)\n",
    "routesDF = spark.read.load(\"/data/students/bigdata_internet/lab5/routes.csv\",\n",
    "                        format=\"csv\",\n",
    "                        header=True,\n",
    "                        inferSchema=True).filter(\"airline_id!=-1\")"
   ]
  },
  {
   "cell_type": "markdown",
   "metadata": {},
   "source": [
    "# 2.Top airports and airlines"
   ]
  },
  {
   "cell_type": "code",
   "execution_count": 13,
   "metadata": {},
   "outputs": [
    {
     "name": "stdout",
     "output_type": "stream",
     "text": [
      "Task 1: \n",
      "+--------------+-----+\n",
      "|       country|count|\n",
      "+--------------+-----+\n",
      "| United States| 1512|\n",
      "|        Canada|  430|\n",
      "|     Australia|  334|\n",
      "|        Brazil|  264|\n",
      "|        Russia|  264|\n",
      "|       Germany|  249|\n",
      "|         China|  241|\n",
      "|        France|  217|\n",
      "|United Kingdom|  167|\n",
      "|         India|  148|\n",
      "|     Indonesia|  145|\n",
      "|         Japan|  123|\n",
      "+--------------+-----+\n",
      "\n",
      "Task 2: \n",
      "+--------------------+----+-----+\n",
      "|                name|icao|count|\n",
      "+--------------------+----+-----+\n",
      "|   American Airlines| AAL| 2354|\n",
      "|          Air France| AFR| 1071|\n",
      "|            Alitalia| AZA|  877|\n",
      "|           Air China| CCA| 1260|\n",
      "|China Eastern Air...| CES| 1263|\n",
      "|China Southern Ai...| CSN| 1454|\n",
      "|     Delta Air Lines| DAL| 1981|\n",
      "|             easyJet| EZY| 1130|\n",
      "|     Iberia Airlines| IBE|  831|\n",
      "|KLM Royal Dutch A...| KLM|  830|\n",
      "|           Lufthansa| DLH|  923|\n",
      "|             Ryanair| RYR| 2484|\n",
      "|  Southwest Airlines| SWA| 1146|\n",
      "|     United Airlines| UAL| 2180|\n",
      "|          US Airways| USA| 1960|\n",
      "+--------------------+----+-----+\n",
      "\n",
      "Task 3: \n",
      "+--------------------+-------------------+------------------------+-------------------------+-----+\n",
      "| source_airport_name|source_airport_city|destination_airport_name|desitination_airport_city|count|\n",
      "+--------------------+-------------------+------------------------+-------------------------+-----+\n",
      "|Chicago O'Hare In...|            Chicago|    Hartsfield Jackso...|                  Atlanta|   20|\n",
      "|Hartsfield Jackso...|            Atlanta|    Chicago O'Hare In...|                  Chicago|   19|\n",
      "|Phuket Internatio...|             Phuket|    Suvarnabhumi Airport|                  Bangkok|   13|\n",
      "|Chicago O'Hare In...|            Chicago|    Louis Armstrong N...|              New Orleans|   13|\n",
      "|Guangzhou Baiyun ...|          Guangzhou|    Hangzhou Xiaoshan...|                 Hangzhou|   12|\n",
      "|London Heathrow A...|             London|    John F Kennedy In...|                 New York|   12|\n",
      "|Miami Internation...|              Miami|    Hartsfield Jackso...|                  Atlanta|   12|\n",
      "|Hartsfield Jackso...|            Atlanta|    Miami Internation...|                    Miami|   12|\n",
      "|Suvarnabhumi Airport|            Bangkok|    Hong Kong Interna...|                Hong Kong|   12|\n",
      "|Abu Dhabi Interna...|          Abu Dhabi|    Muscat Internatio...|                   Muscat|   12|\n",
      "|John F Kennedy In...|           New York|    London Heathrow A...|                   London|   12|\n",
      "|Hamad Internation...|               Doha|    Bahrain Internati...|                  Bahrain|   12|\n",
      "|Hong Kong Interna...|          Hong Kong|    Suvarnabhumi Airport|                  Bangkok|   12|\n",
      "|Chiang Mai Intern...|         Chiang Mai|    Suvarnabhumi Airport|                  Bangkok|   11|\n",
      "+--------------------+-------------------+------------------------+-------------------------+-----+\n",
      "\n"
     ]
    }
   ],
   "source": [
    "print(\"Task 1: \")\n",
    "airportsDF.select(\"country\").groupBy(\"country\").count().filter(\"count>100\")\\\n",
    "            .sort(\"count\",ascending=False).show()\n",
    "\n",
    "print(\"Task 2: \")\n",
    "topAirlineDF = routesDF.select(\"airline_id\").groupBy(\"airline_id\").count()\\\n",
    "                        .sort(\"count\",ascending=False).limit(15)\n",
    "topAirlineDF.join(airlinesDF,topAirlineDF.airline_id==airlinesDF.airline_id)\\\n",
    "            .select(\"name\",\"icao\",\"count\").show()\n",
    "\n",
    "print(\"Task 3: \")\n",
    "topRouteDF= routesDF.select(\"airport_source_id\",\"airport_destination_id\")\\\n",
    "                    .groupBy(\"airport_source_id\",\"airport_destination_id\")\\\n",
    "                    .count().sort(\"count\",ascending=False).limit(15)\n",
    "topRouteDFMatchSource = topRouteDF.join(airportsDF,\n",
    "                        topRouteDF.airport_source_id==airportsDF.id)\\\n",
    "                        .selectExpr(\"name AS source_airport_name\",\n",
    "                                    \"city AS source_airport_city\",\n",
    "                                    \"airport_destination_id\",\"count\")\n",
    "topRouteDFMatchAll = topRouteDFMatchSource.join(airportsDF,\n",
    "                    topRouteDFMatchSource.airport_destination_id==airportsDF.id)\\\n",
    "                    .selectExpr(\"source_airport_name\",\"source_airport_city\",\n",
    "                                \"name AS destination_airport_name\",\n",
    "                                \"city AS desitination_airport_city\",\"count\")\\\n",
    "                    .sort(\"count\",ascending=False)\n",
    "topRouteDFMatchAll.show()"
   ]
  },
  {
   "cell_type": "markdown",
   "metadata": {},
   "source": [
    "# 3.Create the graph of flight connections"
   ]
  },
  {
   "cell_type": "code",
   "execution_count": 4,
   "metadata": {},
   "outputs": [],
   "source": [
    "filtedRoutesDF= routesDF.filter(\"airport_source_id != '\\\\\\\\N' and airport_destination_id!='\\\\\\\\N'\")\n",
    "airportsDF=airportsDF.withColumn(\"id\",airportsDF.id.cast(\"string\"))\n",
    "filtedRoutesDF=filtedRoutesDF.withColumnRenamed(\"airport_source_id\",\"src\")\\\n",
    "                                .withColumnRenamed(\"airport_destination_id\",\"dst\")"
   ]
  },
  {
   "cell_type": "code",
   "execution_count": 5,
   "metadata": {},
   "outputs": [],
   "source": [
    "from graphframes import GraphFrame\n",
    "g = GraphFrame(airportsDF, filtedRoutesDF)"
   ]
  },
  {
   "cell_type": "markdown",
   "metadata": {},
   "source": [
    "# 4.Analyze and process the graph"
   ]
  },
  {
   "cell_type": "markdown",
   "metadata": {},
   "source": [
    "## Task 1"
   ]
  },
  {
   "cell_type": "code",
   "execution_count": 6,
   "metadata": {},
   "outputs": [
    {
     "name": "stdout",
     "output_type": "stream",
     "text": [
      "Outdegrees:\n",
      "+--------------------+----+---------+\n",
      "|                name|  id|outDegree|\n",
      "+--------------------+----+---------+\n",
      "|Hartsfield Jackso...|3682|      915|\n",
      "|Chicago O'Hare In...|3830|      558|\n",
      "|Beijing Capital I...|3364|      535|\n",
      "|London Heathrow A...| 507|      525|\n",
      "|Charles de Gaulle...|1382|      524|\n",
      "|Frankfurt am Main...| 340|      497|\n",
      "|Los Angeles Inter...|3484|      492|\n",
      "|Dallas Fort Worth...|3670|      469|\n",
      "|John F Kennedy In...|3797|      456|\n",
      "|Amsterdam Airport...| 580|      453|\n",
      "|Shanghai Pudong I...|3406|      411|\n",
      "|Singapore Changi ...|3316|      405|\n",
      "|Barcelona Interna...|1218|      391|\n",
      "|Incheon Internati...|3930|      370|\n",
      "|Miami Internation...|3576|      368|\n",
      "+--------------------+----+---------+\n",
      "\n",
      "Indegrees: \n",
      "+--------------------+----+--------+\n",
      "|                name|  id|inDegree|\n",
      "+--------------------+----+--------+\n",
      "|Hartsfield Jackso...|3682|     911|\n",
      "|Chicago O'Hare In...|3830|     550|\n",
      "|Beijing Capital I...|3364|     534|\n",
      "|London Heathrow A...| 507|     522|\n",
      "|Charles de Gaulle...|1382|     517|\n",
      "|Los Angeles Inter...|3484|     498|\n",
      "|Frankfurt am Main...| 340|     493|\n",
      "|Dallas Fort Worth...|3670|     467|\n",
      "|John F Kennedy In...|3797|     455|\n",
      "|Amsterdam Airport...| 580|     450|\n",
      "|Shanghai Pudong I...|3406|     414|\n",
      "|Singapore Changi ...|3316|     409|\n",
      "|Barcelona Interna...|1218|     391|\n",
      "|Denver Internatio...|3751|     374|\n",
      "|Incheon Internati...|3930|     370|\n",
      "+--------------------+----+--------+\n",
      "\n"
     ]
    }
   ],
   "source": [
    "print(\"Outdegrees:\")\n",
    "outDegree = g.outDegrees.sort(\"outDegree\",ascending = False).limit(15)\n",
    "outDegree.join(airportsDF,\"id\").select(\"name\",\"id\",\"outDegree\").sort(\"outDegree\",ascending=False).show()\n",
    "\n",
    "print(\"Indegrees: \")\n",
    "inDegree = g.inDegrees.sort(\"inDegree\",ascending=False).limit(15)\n",
    "inDegree.join(airportsDF,\"id\").select(\"name\",\"id\",\"inDegree\").sort(\"inDegree\",ascending=False).show()"
   ]
  },
  {
   "cell_type": "markdown",
   "metadata": {},
   "source": [
    "## Task 2"
   ]
  },
  {
   "cell_type": "code",
   "execution_count": 7,
   "metadata": {},
   "outputs": [
    {
     "name": "stdout",
     "output_type": "stream",
     "text": [
      "Number of reachable airports form Turin taking exactly 1 flight: 29\n",
      "Number of reachable airports form Turin taking exactly 2 flight: 590\n",
      "Number of reachable airports form Turin taking exactly 3 flight: 2192\n"
     ]
    }
   ],
   "source": [
    "from pyspark.sql.types import BooleanType\n",
    "from pyspark.sql.functions import udf\n",
    "chain1 = g.find(\"(a)-[ab]->(b)\")\n",
    "chain2 = g.find(\"(a)-[ab]->(b); (b)-[bc]->(c)\")\n",
    "chain3 = g.find(\"(a)-[ab]->(b); (b)-[bc]->(c); (c)-[cd]->(d)\")\n",
    "def condition(a):\n",
    "    return (a[\"id\"] == \"1526\")\n",
    "    \n",
    "conditionUDF = udf(condition,BooleanType())\n",
    "chainWith1Flight = chain1.filter(conditionUDF(chain1.a))\n",
    "print(\"Number of reachable airports form Turin taking exactly 1 flight:\",chainWith1Flight.select(\"b\")\\\n",
    "      .distinct().count())\n",
    "\n",
    "chainWith2Flight = chain2.filter(conditionUDF(chain2.a))\n",
    "print(\"Number of reachable airports form Turin taking exactly 2 flight:\",chainWith2Flight.select(\"c\")\\\n",
    "      .distinct().count())\n",
    "\n",
    "chainWith3Flight = chain3.filter(conditionUDF(chain3.a))\n",
    "print(\"Number of reachable airports form Turin taking exactly 3 flight:\",chainWith3Flight.select(\"d\")\\\n",
    "      .distinct().count())\n"
   ]
  },
  {
   "cell_type": "markdown",
   "metadata": {},
   "source": [
    "## Task 3"
   ]
  },
  {
   "cell_type": "code",
   "execution_count": 8,
   "metadata": {},
   "outputs": [
    {
     "name": "stdout",
     "output_type": "stream",
     "text": [
      "+--------------------+--------------------+-------------+----+\n",
      "|                name|                city|      country|hops|\n",
      "+--------------------+--------------------+-------------+----+\n",
      "|    Portland Airport|            Portland|    Australia|   7|\n",
      "|      Thule Air Base|               Thule|    Greenland|   7|\n",
      "|   Nightmute Airport|           Nightmute|United States|   7|\n",
      "|Lourdes de Blanc ...|Lourdes-De-Blanc-...|       Canada|   7|\n",
      "|Thargomindah Airport|        Thargomindah|    Australia|   7|\n",
      "|    Hopedale Airport|            Hopedale|       Canada|   7|\n",
      "|  Birdsville Airport|          Birdsville|    Australia|   7|\n",
      "|La Tabatière Airport|        La Tabatière|       Canada|   7|\n",
      "|      Futuna Airport|       Futuna Island|      Vanuatu|   6|\n",
      "|    Windorah Airport|            Windorah|    Australia|   6|\n",
      "|   Mota Lava Airport|               Ablow|      Vanuatu|   6|\n",
      "|Arctic Village Ai...|      Arctic Village|United States|   6|\n",
      "+--------------------+--------------------+-------------+----+\n",
      "only showing top 12 rows\n",
      "\n"
     ]
    }
   ],
   "source": [
    "shortestPathDF = g.shortestPaths(landmarks = [\"1526\"])\n",
    "def calHops(dist):\n",
    "    val = dist.get(\"1526\")\n",
    "    return val\n",
    "spark.udf.register(\"calHops\",calHops)\n",
    "shortestPathDF.selectExpr(\"name\",\"city\",\"country\",\"calHops(distances) AS hops\")\\\n",
    "                .sort(\"hops\",ascending=False).show(12)"
   ]
  },
  {
   "cell_type": "markdown",
   "metadata": {},
   "source": [
    "## Task 4"
   ]
  },
  {
   "cell_type": "code",
   "execution_count": 9,
   "metadata": {},
   "outputs": [
    {
     "name": "stdout",
     "output_type": "stream",
     "text": [
      "Number of airports in the world you can reach Turin using less hops than to reach Puerto Montt:  2130\n",
      "Number of airports in the world you can reach Puerto Montt using less hops than to reach Turin:  143\n",
      "Number of airports in the world d you can reach with the same number of hops Turin and Puerto Montt:  820\n"
     ]
    }
   ],
   "source": [
    "idOfPuerto=airportsDF.filter(\"city=='Puerto Montt'\").take(1)[0].id\n",
    "shortestToTwo= g.shortestPaths(landmarks = [\"1526\",idOfPuerto])\n",
    "\n",
    "def compareCondition1(dist):\n",
    "    if dist.get(\"1526\")==None or dist.get(idOfPuerto)==None:\n",
    "        return False\n",
    "    return dist.get(\"1526\")<dist.get(idOfPuerto)\n",
    "compareCondition1UDF=udf(compareCondition1,BooleanType())\n",
    "\n",
    "def compareCondition2(dist):\n",
    "    if dist.get(\"1526\")==None or dist.get(idOfPuerto)==None:\n",
    "        return False\n",
    "    return dist.get(\"1526\")>dist.get(idOfPuerto)\n",
    "compareCondition2UDF=udf(compareCondition2,BooleanType())\n",
    "\n",
    "def compareCondition3(dist):\n",
    "    if dist.get(\"1526\")==None or dist.get(idOfPuerto)==None:\n",
    "        return False\n",
    "    return dist.get(\"1526\")==dist.get(idOfPuerto)\n",
    "compareCondition3UDF=udf(compareCondition3,BooleanType())\n",
    "\n",
    "print(\"Number of airports in the world you can reach Turin using less hops than to reach Puerto Montt: \",\n",
    "     shortestToTwo.filter(compareCondition1UDF(shortestToTwo.distances)).count())\n",
    "print(\"Number of airports in the world you can reach Puerto Montt using less hops than to reach Turin: \",\n",
    "     shortestToTwo.filter(compareCondition2UDF(shortestToTwo.distances)).count())\n",
    "print(\"Number of airports in the world d you can reach with the same number of hops Turin and Puerto Montt: \",\n",
    "     shortestToTwo.filter(compareCondition3UDF(shortestToTwo.distances)).count())"
   ]
  },
  {
   "cell_type": "markdown",
   "metadata": {},
   "source": [
    "## Task 5"
   ]
  },
  {
   "cell_type": "code",
   "execution_count": 10,
   "metadata": {},
   "outputs": [
    {
     "name": "stdout",
     "output_type": "stream",
     "text": [
      "The number of connected components of at least two airport is:  7\n",
      "The size of each component is: \n",
      "+-------------+-----+\n",
      "|    component|count|\n",
      "+-------------+-----+\n",
      "|            0| 3111|\n",
      "|            9|    4|\n",
      "| 721554505735|    2|\n",
      "| 266287972363|    4|\n",
      "| 300647710722|   10|\n",
      "| 352187318278|    4|\n",
      "|1460288880648|    2|\n",
      "+-------------+-----+\n",
      "\n"
     ]
    }
   ],
   "source": [
    "g2=g.dropIsolatedVertices()\n",
    "sc.setCheckpointDir(\"tmp_ckpts\")\n",
    "connComp=g2.connectedComponents()\n",
    "print(\"The number of connected components of at least two airport is: \",connComp.select(\"component\")\\\n",
    "      .groupBy(\"component\").count().filter(\"count>1\").count())\n",
    "print(\"The size of each component is: \")\n",
    "connComp.select(\"component\").groupBy(\"component\").count().filter(\"count>1\").show()"
   ]
  },
  {
   "cell_type": "markdown",
   "metadata": {},
   "source": [
    "## Task 6"
   ]
  },
  {
   "cell_type": "code",
   "execution_count": 11,
   "metadata": {},
   "outputs": [
    {
     "name": "stdout",
     "output_type": "stream",
     "text": [
      "+----+---------+-----------+\n",
      "|icao|cityCount|flightCount|\n",
      "+----+---------+-----------+\n",
      "| RAR|        7|         13|\n",
      "| TCF|       12|         14|\n",
      "| WER|        7|         12|\n",
      "| VNP|        7|         12|\n",
      "| OAW|        9|         14|\n",
      "+----+---------+-----------+\n",
      "only showing top 5 rows\n",
      "\n"
     ]
    }
   ],
   "source": [
    "# To find the airline involving in at least 6 cities and show the number of flights of each of these airline\n",
    "flightMapAirlineDF=filtedRoutesDF.join(airlinesDF,\"airline_id\")\n",
    "flightIcaoSrc =flightMapAirlineDF.select(\"icao\",\"src\")\n",
    "airportsSimpleDF=airportsDF.select(\"id\",\"city\")\n",
    "icaoMapSrcCityDF = flightIcaoSrc.join(airportsSimpleDF,flightIcaoSrc.src==airportsSimpleDF.id)\\\n",
    "                                .selectExpr(\"id\",\"icao\",\"city AS srcCity\")\n",
    "icaoCityNumDF = icaoMapSrcCityDF.distinct().groupBy(\"icao\").count().filter(\"count>=6\")\\\n",
    "                                .selectExpr(\"icao\",\"count AS cityCount\")\n",
    "icaoFlightNumDF =flightMapAirlineDF.groupBy(\"icao\").count().selectExpr(\"icao\",\"count AS flightCount\")\n",
    "statisticDF = icaoCityNumDF.join(icaoFlightNumDF,\"icao\").filter(\"flightCount>10 and flightCount<15\")\n",
    "statisticDF.show(5)"
   ]
  },
  {
   "cell_type": "code",
   "execution_count": 12,
   "metadata": {},
   "outputs": [
    {
     "name": "stdout",
     "output_type": "stream",
     "text": [
      "Choose airlines with icao RAR and OAW to build the Subgraph\n"
     ]
    },
    {
     "data": {
      "image/svg+xml": [
       "<?xml version=\"1.0\" encoding=\"UTF-8\" standalone=\"no\"?>\n",
       "<!DOCTYPE svg PUBLIC \"-//W3C//DTD SVG 1.1//EN\"\n",
       " \"http://www.w3.org/Graphics/SVG/1.1/DTD/svg11.dtd\">\n",
       "<!-- Generated by graphviz version 2.40.1 (20161225.0304)\n",
       " -->\n",
       "<!-- Title: %3 Pages: 1 -->\n",
       "<svg width=\"885pt\" height=\"260pt\"\n",
       " viewBox=\"0.00 0.00 885.44 260.00\" xmlns=\"http://www.w3.org/2000/svg\" xmlns:xlink=\"http://www.w3.org/1999/xlink\">\n",
       "<g id=\"graph0\" class=\"graph\" transform=\"scale(1 1) rotate(0) translate(4 256)\">\n",
       "<title>%3</title>\n",
       "<polygon fill=\"#ffffff\" stroke=\"transparent\" points=\"-4,4 -4,-256 881.4423,-256 881.4423,4 -4,4\"/>\n",
       "<!-- 1506 -->\n",
       "<g id=\"node1\" class=\"node\">\n",
       "<title>1506</title>\n",
       "<ellipse fill=\"none\" stroke=\"#000000\" cx=\"242.4458\" cy=\"-234\" rx=\"40.0939\" ry=\"18\"/>\n",
       "<text text-anchor=\"middle\" x=\"242.4458\" y=\"-230.3\" font-family=\"Times,serif\" font-size=\"14.00\" fill=\"#000000\">Brindisi</text>\n",
       "</g>\n",
       "<!-- 1678 -->\n",
       "<g id=\"node2\" class=\"node\">\n",
       "<title>1678</title>\n",
       "<ellipse fill=\"none\" stroke=\"#000000\" cx=\"242.4458\" cy=\"-162\" rx=\"35.9954\" ry=\"18\"/>\n",
       "<text text-anchor=\"middle\" x=\"242.4458\" y=\"-158.3\" font-family=\"Times,serif\" font-size=\"14.00\" fill=\"#000000\">Zurich</text>\n",
       "</g>\n",
       "<!-- 1506&#45;&gt;1678 -->\n",
       "<g id=\"edge1\" class=\"edge\">\n",
       "<title>1506&#45;&gt;1678</title>\n",
       "<path fill=\"none\" stroke=\"#000000\" d=\"M236.4934,-215.8314C235.7314,-208.0125 235.5154,-198.6923 235.8453,-190.0221\"/>\n",
       "<polygon fill=\"#000000\" stroke=\"#000000\" points=\"239.3462,-190.1239 236.5185,-179.9134 232.3617,-189.6587 239.3462,-190.1239\"/>\n",
       "</g>\n",
       "<!-- 1678&#45;&gt;1506 -->\n",
       "<g id=\"edge9\" class=\"edge\">\n",
       "<title>1678&#45;&gt;1506</title>\n",
       "<path fill=\"none\" stroke=\"#000000\" d=\"M248.3731,-179.9134C249.1469,-187.6993 249.3749,-197.01 249.0569,-205.6941\"/>\n",
       "<polygon fill=\"#000000\" stroke=\"#000000\" points=\"245.554,-205.6254 248.3982,-215.8314 252.5393,-206.0794 245.554,-205.6254\"/>\n",
       "</g>\n",
       "<!-- 1264 -->\n",
       "<g id=\"node3\" class=\"node\">\n",
       "<title>1264</title>\n",
       "<ellipse fill=\"none\" stroke=\"#000000\" cx=\"47.4458\" cy=\"-90\" rx=\"47.3916\" ry=\"18\"/>\n",
       "<text text-anchor=\"middle\" x=\"47.4458\" y=\"-86.3\" font-family=\"Times,serif\" font-size=\"14.00\" fill=\"#000000\">Bordeaux</text>\n",
       "</g>\n",
       "<!-- 1678&#45;&gt;1264 -->\n",
       "<g id=\"edge10\" class=\"edge\">\n",
       "<title>1678&#45;&gt;1264</title>\n",
       "<path fill=\"none\" stroke=\"#000000\" d=\"M211.7913,-152.439C178.4824,-140.9564 125.354,-121.476 88.4939,-107.3226\"/>\n",
       "<polygon fill=\"#000000\" stroke=\"#000000\" points=\"89.6172,-104.0045 79.0278,-103.6654 87.0945,-110.5341 89.6172,-104.0045\"/>\n",
       "</g>\n",
       "<!-- 490 -->\n",
       "<g id=\"node4\" class=\"node\">\n",
       "<title>490</title>\n",
       "<ellipse fill=\"none\" stroke=\"#000000\" cx=\"148.4458\" cy=\"-90\" rx=\"35.9954\" ry=\"18\"/>\n",
       "<text text-anchor=\"middle\" x=\"148.4458\" y=\"-86.3\" font-family=\"Times,serif\" font-size=\"14.00\" fill=\"#000000\">Bristol</text>\n",
       "</g>\n",
       "<!-- 1678&#45;&gt;490 -->\n",
       "<g id=\"edge11\" class=\"edge\">\n",
       "<title>1678&#45;&gt;490</title>\n",
       "<path fill=\"none\" stroke=\"#000000\" d=\"M218.8636,-148.1177C204.492,-138.143 186.3483,-124.4698 171.9966,-112.8916\"/>\n",
       "<polygon fill=\"#000000\" stroke=\"#000000\" points=\"173.9916,-110.001 164.0419,-106.3604 169.5496,-115.4111 173.9916,-110.001\"/>\n",
       "</g>\n",
       "<!-- 1054 -->\n",
       "<g id=\"node6\" class=\"node\">\n",
       "<title>1054</title>\n",
       "<ellipse fill=\"none\" stroke=\"#000000\" cx=\"490.4458\" cy=\"-90\" rx=\"59.5901\" ry=\"18\"/>\n",
       "<text text-anchor=\"middle\" x=\"490.4458\" y=\"-86.3\" font-family=\"Times,serif\" font-size=\"14.00\" fill=\"#000000\">Gran Canaria</text>\n",
       "</g>\n",
       "<!-- 1678&#45;&gt;1054 -->\n",
       "<g id=\"edge13\" class=\"edge\">\n",
       "<title>1678&#45;&gt;1054</title>\n",
       "<path fill=\"none\" stroke=\"#000000\" d=\"M272.5793,-151.8369C312.8818,-139.481 384.7796,-118.543 434.9709,-104.4974\"/>\n",
       "<polygon fill=\"#000000\" stroke=\"#000000\" points=\"436.0107,-107.8411 444.7039,-101.7848 434.1314,-101.0981 436.0107,-107.8411\"/>\n",
       "</g>\n",
       "<!-- 1197 -->\n",
       "<g id=\"node7\" class=\"node\">\n",
       "<title>1197</title>\n",
       "<ellipse fill=\"none\" stroke=\"#000000\" cx=\"242.4458\" cy=\"-90\" rx=\"40.0939\" ry=\"18\"/>\n",
       "<text text-anchor=\"middle\" x=\"242.4458\" y=\"-86.3\" font-family=\"Times,serif\" font-size=\"14.00\" fill=\"#000000\">Larnaca</text>\n",
       "</g>\n",
       "<!-- 1678&#45;&gt;1197 -->\n",
       "<g id=\"edge12\" class=\"edge\">\n",
       "<title>1678&#45;&gt;1197</title>\n",
       "<path fill=\"none\" stroke=\"#000000\" d=\"M236.5301,-144.2022C235.7403,-136.3271 235.5113,-126.875 235.8429,-118.0852\"/>\n",
       "<polygon fill=\"#000000\" stroke=\"#000000\" points=\"239.3527,-118.0532 236.5256,-107.8425 232.3682,-117.5876 239.3527,-118.0532\"/>\n",
       "</g>\n",
       "<!-- 4197 -->\n",
       "<g id=\"node8\" class=\"node\">\n",
       "<title>4197</title>\n",
       "<ellipse fill=\"none\" stroke=\"#000000\" cx=\"356.4458\" cy=\"-90\" rx=\"55.7903\" ry=\"18\"/>\n",
       "<text text-anchor=\"middle\" x=\"356.4458\" y=\"-86.3\" font-family=\"Times,serif\" font-size=\"14.00\" fill=\"#000000\">Marsa Alam</text>\n",
       "</g>\n",
       "<!-- 1678&#45;&gt;4197 -->\n",
       "<g id=\"edge14\" class=\"edge\">\n",
       "<title>1678&#45;&gt;4197</title>\n",
       "<path fill=\"none\" stroke=\"#000000\" d=\"M261.2443,-146.5542C276.5906,-136.0669 298.5654,-122.0799 317.5947,-110.6399\"/>\n",
       "<polygon fill=\"#000000\" stroke=\"#000000\" points=\"319.5683,-113.5384 326.3761,-105.4203 315.9917,-107.5211 319.5683,-113.5384\"/>\n",
       "</g>\n",
       "<!-- 1264&#45;&gt;1678 -->\n",
       "<g id=\"edge2\" class=\"edge\">\n",
       "<title>1264&#45;&gt;1678</title>\n",
       "<path fill=\"none\" stroke=\"#000000\" d=\"M84.1779,-101.6681C119.1363,-113.8513 171.2396,-133.0235 206.0735,-146.478\"/>\n",
       "<polygon fill=\"#000000\" stroke=\"#000000\" points=\"204.8232,-149.7471 215.4118,-150.1107 207.361,-143.2233 204.8232,-149.7471\"/>\n",
       "</g>\n",
       "<!-- 490&#45;&gt;1678 -->\n",
       "<g id=\"edge3\" class=\"edge\">\n",
       "<title>490&#45;&gt;1678</title>\n",
       "<path fill=\"none\" stroke=\"#000000\" d=\"M171.9819,-103.8504C186.3669,-113.8319 204.5432,-127.5294 218.9131,-139.123\"/>\n",
       "<polygon fill=\"#000000\" stroke=\"#000000\" points=\"216.927,-142.021 226.8766,-145.6621 221.3693,-136.6111 216.927,-142.021\"/>\n",
       "</g>\n",
       "<!-- 1665 -->\n",
       "<g id=\"node5\" class=\"node\">\n",
       "<title>1665</title>\n",
       "<ellipse fill=\"none\" stroke=\"#000000\" cx=\"490.4458\" cy=\"-162\" rx=\"38.9931\" ry=\"18\"/>\n",
       "<text text-anchor=\"middle\" x=\"490.4458\" y=\"-158.3\" font-family=\"Times,serif\" font-size=\"14.00\" fill=\"#000000\">Geneva</text>\n",
       "</g>\n",
       "<!-- 1665&#45;&gt;1054 -->\n",
       "<g id=\"edge4\" class=\"edge\">\n",
       "<title>1665&#45;&gt;1054</title>\n",
       "<path fill=\"none\" stroke=\"#000000\" d=\"M490.4458,-143.8314C490.4458,-136.131 490.4458,-126.9743 490.4458,-118.4166\"/>\n",
       "<polygon fill=\"#000000\" stroke=\"#000000\" points=\"493.9459,-118.4132 490.4458,-108.4133 486.9459,-118.4133 493.9459,-118.4132\"/>\n",
       "</g>\n",
       "<!-- 1054&#45;&gt;1678 -->\n",
       "<g id=\"edge6\" class=\"edge\">\n",
       "<title>1054&#45;&gt;1678</title>\n",
       "<path fill=\"none\" stroke=\"#000000\" d=\"M449.7821,-103.3696C404.0929,-117.1993 330.5021,-138.5242 284.3216,-151.2858\"/>\n",
       "<polygon fill=\"#000000\" stroke=\"#000000\" points=\"283.3365,-147.9266 274.6207,-153.9503 285.1906,-154.6766 283.3365,-147.9266\"/>\n",
       "</g>\n",
       "<!-- 1197&#45;&gt;1678 -->\n",
       "<g id=\"edge5\" class=\"edge\">\n",
       "<title>1197&#45;&gt;1678</title>\n",
       "<path fill=\"none\" stroke=\"#000000\" d=\"M248.366,-107.8425C249.1536,-115.7236 249.3806,-125.1774 249.0468,-133.9647\"/>\n",
       "<polygon fill=\"#000000\" stroke=\"#000000\" points=\"245.5373,-133.9908 248.3615,-144.2022 252.5216,-134.4583 245.5373,-133.9908\"/>\n",
       "</g>\n",
       "<!-- 4197&#45;&gt;1678 -->\n",
       "<g id=\"edge7\" class=\"edge\">\n",
       "<title>4197&#45;&gt;1678</title>\n",
       "<path fill=\"none\" stroke=\"#000000\" d=\"M335.5026,-106.905C318.9737,-118.1039 295.7812,-132.7722 276.6159,-144.1579\"/>\n",
       "<polygon fill=\"#000000\" stroke=\"#000000\" points=\"274.7124,-141.2167 267.8557,-149.2936 278.2527,-147.2554 274.7124,-141.2167\"/>\n",
       "</g>\n",
       "<!-- 1056 -->\n",
       "<g id=\"node9\" class=\"node\">\n",
       "<title>1056</title>\n",
       "<ellipse fill=\"none\" stroke=\"#000000\" cx=\"490.4458\" cy=\"-234\" rx=\"40.8928\" ry=\"18\"/>\n",
       "<text text-anchor=\"middle\" x=\"490.4458\" y=\"-230.3\" font-family=\"Times,serif\" font-size=\"14.00\" fill=\"#000000\">Tenerife</text>\n",
       "</g>\n",
       "<!-- 1056&#45;&gt;1665 -->\n",
       "<g id=\"edge8\" class=\"edge\">\n",
       "<title>1056&#45;&gt;1665</title>\n",
       "<path fill=\"none\" stroke=\"#000000\" d=\"M490.4458,-215.8314C490.4458,-208.131 490.4458,-198.9743 490.4458,-190.4166\"/>\n",
       "<polygon fill=\"#000000\" stroke=\"#000000\" points=\"493.9459,-190.4132 490.4458,-180.4133 486.9459,-190.4133 493.9459,-190.4132\"/>\n",
       "</g>\n",
       "<!-- 1958 -->\n",
       "<g id=\"node10\" class=\"node\">\n",
       "<title>1958</title>\n",
       "<ellipse fill=\"none\" stroke=\"#000000\" cx=\"688.4458\" cy=\"-234\" rx=\"40.8928\" ry=\"18\"/>\n",
       "<text text-anchor=\"middle\" x=\"688.4458\" y=\"-230.3\" font-family=\"Times,serif\" font-size=\"14.00\" fill=\"#000000\">Aitutaki</text>\n",
       "</g>\n",
       "<!-- 5861 -->\n",
       "<g id=\"node11\" class=\"node\">\n",
       "<title>5861</title>\n",
       "<ellipse fill=\"none\" stroke=\"#000000\" cx=\"599.4458\" cy=\"-162\" rx=\"51.9908\" ry=\"18\"/>\n",
       "<text text-anchor=\"middle\" x=\"599.4458\" y=\"-158.3\" font-family=\"Times,serif\" font-size=\"14.00\" fill=\"#000000\">Atiu Island</text>\n",
       "</g>\n",
       "<!-- 1958&#45;&gt;5861 -->\n",
       "<g id=\"edge15\" class=\"edge\">\n",
       "<title>1958&#45;&gt;5861</title>\n",
       "<path fill=\"none\" stroke=\"#000000\" d=\"M668.6938,-218.0209C656.7344,-208.3458 641.2783,-195.842 628.0033,-185.1027\"/>\n",
       "<polygon fill=\"#000000\" stroke=\"#000000\" points=\"630.0462,-182.2535 620.0704,-178.6851 625.6436,-187.6956 630.0462,-182.2535\"/>\n",
       "</g>\n",
       "<!-- 1959 -->\n",
       "<g id=\"node12\" class=\"node\">\n",
       "<title>1959</title>\n",
       "<ellipse fill=\"none\" stroke=\"#000000\" cx=\"647.4458\" cy=\"-90\" rx=\"37.8943\" ry=\"18\"/>\n",
       "<text text-anchor=\"middle\" x=\"647.4458\" y=\"-86.3\" font-family=\"Times,serif\" font-size=\"14.00\" fill=\"#000000\">Avarua</text>\n",
       "</g>\n",
       "<!-- 1958&#45;&gt;1959 -->\n",
       "<g id=\"edge16\" class=\"edge\">\n",
       "<title>1958&#45;&gt;1959</title>\n",
       "<path fill=\"none\" stroke=\"#000000\" d=\"M678.8041,-216.3428C669.3159,-191.8619 656.3486,-147.342 649.9925,-118.222\"/>\n",
       "<polygon fill=\"#000000\" stroke=\"#000000\" points=\"653.3889,-117.3593 647.9687,-108.256 646.5289,-118.7525 653.3889,-117.3593\"/>\n",
       "</g>\n",
       "<!-- 5861&#45;&gt;1959 -->\n",
       "<g id=\"edge17\" class=\"edge\">\n",
       "<title>5861&#45;&gt;1959</title>\n",
       "<path fill=\"none\" stroke=\"#000000\" d=\"M605.6058,-143.8314C610.6678,-134.9385 617.7307,-124.1034 624.6844,-114.4916\"/>\n",
       "<polygon fill=\"#000000\" stroke=\"#000000\" points=\"627.5218,-116.5417 630.7141,-106.4393 621.9186,-112.346 627.5218,-116.5417\"/>\n",
       "</g>\n",
       "<!-- 1959&#45;&gt;1958 -->\n",
       "<g id=\"edge22\" class=\"edge\">\n",
       "<title>1959&#45;&gt;1958</title>\n",
       "<path fill=\"none\" stroke=\"#000000\" d=\"M657.0805,-107.6392C666.5712,-132.1209 679.5464,-176.6679 685.9027,-205.7948\"/>\n",
       "<polygon fill=\"#000000\" stroke=\"#000000\" points=\"682.5066,-206.6586 687.9263,-215.7623 689.3666,-205.2658 682.5066,-206.6586\"/>\n",
       "</g>\n",
       "<!-- 1959&#45;&gt;5861 -->\n",
       "<g id=\"edge23\" class=\"edge\">\n",
       "<title>1959&#45;&gt;5861</title>\n",
       "<path fill=\"none\" stroke=\"#000000\" d=\"M641.4127,-107.9453C636.4952,-116.6102 629.647,-127.158 622.8419,-136.628\"/>\n",
       "<polygon fill=\"#000000\" stroke=\"#000000\" points=\"619.8213,-134.8245 616.661,-144.937 625.4378,-139.0025 619.8213,-134.8245\"/>\n",
       "</g>\n",
       "<!-- 5862 -->\n",
       "<g id=\"node13\" class=\"node\">\n",
       "<title>5862</title>\n",
       "<ellipse fill=\"none\" stroke=\"#000000\" cx=\"427.4458\" cy=\"-18\" rx=\"67.6881\" ry=\"18\"/>\n",
       "<text text-anchor=\"middle\" x=\"427.4458\" y=\"-14.3\" font-family=\"Times,serif\" font-size=\"14.00\" fill=\"#000000\">Mangaia Island</text>\n",
       "</g>\n",
       "<!-- 1959&#45;&gt;5862 -->\n",
       "<g id=\"edge24\" class=\"edge\">\n",
       "<title>1959&#45;&gt;5862</title>\n",
       "<path fill=\"none\" stroke=\"#000000\" d=\"M614.9095,-80.8812C578.3338,-69.6473 518.7949,-50.2999 476.5834,-36.0249\"/>\n",
       "<polygon fill=\"#000000\" stroke=\"#000000\" points=\"477.6481,-32.6901 467.0537,-32.7876 475.3965,-39.3182 477.6481,-32.6901\"/>\n",
       "</g>\n",
       "<!-- 5865 -->\n",
       "<g id=\"node14\" class=\"node\">\n",
       "<title>5865</title>\n",
       "<ellipse fill=\"none\" stroke=\"#000000\" cx=\"576.4458\" cy=\"-18\" rx=\"63.0888\" ry=\"18\"/>\n",
       "<text text-anchor=\"middle\" x=\"576.4458\" y=\"-14.3\" font-family=\"Times,serif\" font-size=\"14.00\" fill=\"#000000\">Mitiaro Island</text>\n",
       "</g>\n",
       "<!-- 1959&#45;&gt;5865 -->\n",
       "<g id=\"edge25\" class=\"edge\">\n",
       "<title>1959&#45;&gt;5865</title>\n",
       "<path fill=\"none\" stroke=\"#000000\" d=\"M626.7525,-74.7307C616.6955,-65.6518 604.8281,-53.9046 595.0631,-43.4567\"/>\n",
       "<polygon fill=\"#000000\" stroke=\"#000000\" points=\"597.394,-40.8183 588.0704,-35.7862 592.2209,-45.5342 597.394,-40.8183\"/>\n",
       "</g>\n",
       "<!-- 5864 -->\n",
       "<g id=\"node15\" class=\"node\">\n",
       "<title>5864</title>\n",
       "<ellipse fill=\"none\" stroke=\"#000000\" cx=\"719.4458\" cy=\"-18\" rx=\"61.99\" ry=\"18\"/>\n",
       "<text text-anchor=\"middle\" x=\"719.4458\" y=\"-14.3\" font-family=\"Times,serif\" font-size=\"14.00\" fill=\"#000000\">Mauke Island</text>\n",
       "</g>\n",
       "<!-- 1959&#45;&gt;5864 -->\n",
       "<g id=\"edge26\" class=\"edge\">\n",
       "<title>1959&#45;&gt;5864</title>\n",
       "<path fill=\"none\" stroke=\"#000000\" d=\"M658.9967,-72.5708C667.2863,-63.3276 678.6075,-51.8352 689.2696,-41.7842\"/>\n",
       "<polygon fill=\"#000000\" stroke=\"#000000\" points=\"691.8907,-44.1279 696.8641,-34.7729 687.1423,-38.9846 691.8907,-44.1279\"/>\n",
       "</g>\n",
       "<!-- 4075 -->\n",
       "<g id=\"node16\" class=\"node\">\n",
       "<title>4075</title>\n",
       "<ellipse fill=\"none\" stroke=\"#000000\" cx=\"838.4458\" cy=\"-18\" rx=\"38.9931\" ry=\"18\"/>\n",
       "<text text-anchor=\"middle\" x=\"838.4458\" y=\"-14.3\" font-family=\"Times,serif\" font-size=\"14.00\" fill=\"#000000\">Papeete</text>\n",
       "</g>\n",
       "<!-- 1959&#45;&gt;4075 -->\n",
       "<g id=\"edge27\" class=\"edge\">\n",
       "<title>1959&#45;&gt;4075</title>\n",
       "<path fill=\"none\" stroke=\"#000000\" d=\"M675.0378,-77.6228C706.9717,-64.8524 759.6194,-44.9815 796.5744,-31.7341\"/>\n",
       "<polygon fill=\"#000000\" stroke=\"#000000\" points=\"797.832,-35.0017 806.0795,-28.3512 795.4848,-28.4069 797.832,-35.0017\"/>\n",
       "</g>\n",
       "<!-- 5862&#45;&gt;1959 -->\n",
       "<g id=\"edge18\" class=\"edge\">\n",
       "<title>5862&#45;&gt;1959</title>\n",
       "<path fill=\"none\" stroke=\"#000000\" d=\"M473.5009,-31.3121C513.3554,-43.7786 570.2315,-62.372 608.0257,-75.2766\"/>\n",
       "<polygon fill=\"#000000\" stroke=\"#000000\" points=\"607.0802,-78.6525 617.6749,-78.5914 609.3546,-72.0322 607.0802,-78.6525\"/>\n",
       "</g>\n",
       "<!-- 5865&#45;&gt;1959 -->\n",
       "<g id=\"edge19\" class=\"edge\">\n",
       "<title>5865&#45;&gt;1959</title>\n",
       "<path fill=\"none\" stroke=\"#000000\" d=\"M599.065,-35.0202C608.8242,-43.9527 619.995,-55.0683 629.2199,-64.9626\"/>\n",
       "<polygon fill=\"#000000\" stroke=\"#000000\" points=\"626.8202,-67.526 636.1369,-72.5708 631.9996,-62.8171 626.8202,-67.526\"/>\n",
       "</g>\n",
       "<!-- 5864&#45;&gt;1959 -->\n",
       "<g id=\"edge20\" class=\"edge\">\n",
       "<title>5864&#45;&gt;1959</title>\n",
       "<path fill=\"none\" stroke=\"#000000\" d=\"M707.5742,-35.7862C698.8348,-45.5006 686.8396,-57.6173 675.7944,-67.9306\"/>\n",
       "<polygon fill=\"#000000\" stroke=\"#000000\" points=\"673.3733,-65.4017 668.3511,-74.7307 678.0947,-70.5697 673.3733,-65.4017\"/>\n",
       "</g>\n",
       "<!-- 4075&#45;&gt;1959 -->\n",
       "<g id=\"edge21\" class=\"edge\">\n",
       "<title>4075&#45;&gt;1959</title>\n",
       "<path fill=\"none\" stroke=\"#000000\" d=\"M810.327,-30.5878C778.0475,-43.4834 725.1004,-63.4568 688.3008,-76.63\"/>\n",
       "<polygon fill=\"#000000\" stroke=\"#000000\" points=\"687.0994,-73.3424 678.8485,-79.9887 689.4432,-79.9384 687.0994,-73.3424\"/>\n",
       "</g>\n",
       "</g>\n",
       "</svg>\n"
      ],
      "text/plain": [
       "<graphviz.dot.Digraph at 0x7f8d32e56f50>"
      ]
     },
     "execution_count": 12,
     "metadata": {},
     "output_type": "execute_result"
    }
   ],
   "source": [
    "print(\"Choose airlines with icao RAR and OAW to build the Subgraph\")\n",
    "newEdges = flightMapAirlineDF.filter(\"icao=='RAR' or icao=='OAW'\")\n",
    "gSub =  GraphFrame(airportsDF, newEdges).dropIsolatedVertices()\n",
    "from graphviz import Digraph\n",
    "def vizGraph(edge_list,node_list):\n",
    "    Gplot=Digraph()\n",
    "    edges=edge_list.collect()\n",
    "    nodes=node_list.collect()\n",
    "    for row in edges:\n",
    "        Gplot.edge(row['src'],row['dst'])\n",
    "    for row in nodes:\n",
    "        Gplot.node(row['id'],label=row['city'])\n",
    "    return Gplot\n",
    "Gplot=vizGraph(gSub.edges,gSub.vertices)\n",
    "Gplot"
   ]
  },
  {
   "cell_type": "markdown",
   "metadata": {},
   "source": [
    "# 5.Bonus Task"
   ]
  },
  {
   "cell_type": "code",
   "execution_count": 17,
   "metadata": {},
   "outputs": [
    {
     "data": {
      "text/plain": [
       "<function __main__.calTotalDistance(lat1, long1, lat2, long2, lat3, long3)>"
      ]
     },
     "execution_count": 17,
     "metadata": {},
     "output_type": "execute_result"
    }
   ],
   "source": [
    "import math\n",
    "def distanceBetweenTwo(lat1,long1,lat2,long2):\n",
    "    toRad = 0.01745329252\n",
    "    lat1 = lat1*toRad\n",
    "    long1 =long1*toRad\n",
    "    lat2=lat2*toRad\n",
    "    long2=long2*toRad\n",
    "    r = 6356.725 # km\n",
    "    temp1 =math.sin((lat2-lat1)/2)*math.sin((lat2-lat1)/2)\n",
    "    temp2 = math.cos(lat1)*math.cos(lat2)*math.sin((long2-long1)/2)*math.sin((long2-long1)/2)\n",
    "    return 2*r*math.asin(math.sqrt(temp1+temp2)) \n",
    "\n",
    "def calTotalDistance(lat1,long1,lat2,long2,lat3,long3):\n",
    "    dist1=distanceBetweenTwo(lat1,long1,lat2,long2)\n",
    "    dist2=distanceBetweenTwo(lat2,long2,lat3,long3)\n",
    "    return float(dist1)+float(dist2)\n",
    "spark.udf.register(\"distanceCal\",calTotalDistance)\n"
   ]
  },
  {
   "cell_type": "code",
   "execution_count": 26,
   "metadata": {},
   "outputs": [
    {
     "name": "stdout",
     "output_type": "stream",
     "text": [
      "The maximum total distance you can flight taking exactly two fligths from Tancredo Neves International Airport is:\n",
      "+------------------------------------+-------------------------------------------------+---------------------+---------+\n",
      "|src                                 |mid                                              |dst                  |distance |\n",
      "+------------------------------------+-------------------------------------------------+---------------------+---------+\n",
      "|Tancredo Neves International Airport|Humberto Delgado Airport (Lisbon Portela Airport)|Salgado Filho Airport|16203.224|\n",
      "+------------------------------------+-------------------------------------------------+---------------------+---------+\n",
      "only showing top 1 row\n",
      "\n"
     ]
    }
   ],
   "source": [
    "idOfTancredo=airportsDF.filter(\"city=='Belo Horizonte' and name=='Tancredo Neves International Airport'\")\\\n",
    "                        .take(1)[0].id\n",
    "\n",
    "chainTancredo = g.find(\"(a)-[ab]->(b); (b)-[bc]->(c)\")\n",
    "def condition2(a,c):\n",
    "    return (a[\"id\"] == idOfTancredo and c[\"id\"]!=a[\"id\"])\n",
    "condition2UDF = udf(condition2,BooleanType())\n",
    "\n",
    "\n",
    "chainTancredoDF = chain2.filter(condition2UDF(chain2.a,chain2.c))\n",
    "chainDistDF = chainTancredoDF.selectExpr(\"a.name AS src\",\"b.name AS mid\",\"c.name AS dst\",\n",
    "            \"distanceCal(a.latitude,a.longitude,b.latitude,b.longitude,c.latitude,c.longitude) AS distance\")\n",
    "print(\"The maximum total distance you can flight taking exactly two fligths from Tancredo Neves International Airport is:\")\n",
    "chainDistDF=chainDistDF.withColumn(\"distance\",chainDistDF.distance.cast(\"float\"))\n",
    "chainDistDF.sort(\"distance\",ascending=False).show(1,False)"
   ]
  },
  {
   "cell_type": "markdown",
   "metadata": {},
   "source": [
    "Answer:  the maximum total distance you can flight taking exactly two fligths from \"Tancredo Neves International Airport\" is 16203.224 km"
   ]
  }
 ],
 "metadata": {
  "kernelspec": {
   "display_name": "GraphFrames (Yarn)",
   "language": "python",
   "name": "graphframe_yarn"
  },
  "language_info": {
   "codemirror_mode": {
    "name": "ipython",
    "version": 3
   },
   "file_extension": ".py",
   "mimetype": "text/x-python",
   "name": "python",
   "nbconvert_exporter": "python",
   "pygments_lexer": "ipython3",
   "version": "3.7.9"
  }
 },
 "nbformat": 4,
 "nbformat_minor": 4
}
