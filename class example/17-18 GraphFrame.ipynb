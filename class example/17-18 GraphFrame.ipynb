{
 "cells": [
  {
   "cell_type": "markdown",
   "metadata": {},
   "source": [
    "* Create a graph"
   ]
  },
  {
   "cell_type": "code",
   "execution_count": 1,
   "metadata": {},
   "outputs": [],
   "source": [
    "from graphframes import GraphFrame\n",
    "# Vertex DataFrame\n",
    "v = spark.createDataFrame([\n",
    " (\"a\", \"Alice\", 34),\n",
    " (\"b\", \"Bob\", 36),\n",
    " (\"c\", \"Charlie\", 30),\n",
    " (\"d\", \"David\", 29),\n",
    " (\"e\", \"Esther\", 32),\n",
    " (\"f\", \"Fanny\", 36),\n",
    " (\"g\", \"Gabby\", 60)\n",
    "], [\"id\", \"name\", \"age\"])\n",
    "# Edge DataFrame\n",
    "e = spark.createDataFrame([\n",
    " (\"a\", \"b\", \"friend\"),\n",
    " (\"b\", \"c\", \"follow\"),\n",
    " (\"c\", \"b\", \"follow\"),\n",
    " (\"f\", \"c\", \"follow\"),\n",
    " (\"e\", \"f\", \"follow\"),\n",
    " (\"e\", \"d\", \"friend\"),\n",
    " (\"d\", \"a\", \"friend\"),\n",
    " (\"a\", \"e\", \"friend\"),\n",
    " (\"q\", \"w\", \"friend\"),\n",
    " (\"y\", \"z\", \"friend\")\n",
    "], [\"src\", \"dst\", \"relationship\"])\n",
    "# Create a GraphFrame\n",
    "g = GraphFrame(v, e)\n"
   ]
  },
  {
   "cell_type": "code",
   "execution_count": 2,
   "metadata": {},
   "outputs": [
    {
     "name": "stdout",
     "output_type": "stream",
     "text": [
      "+---+-------+---+\n",
      "| id|   name|age|\n",
      "+---+-------+---+\n",
      "|  a|  Alice| 34|\n",
      "|  b|    Bob| 36|\n",
      "|  c|Charlie| 30|\n",
      "|  d|  David| 29|\n",
      "|  e| Esther| 32|\n",
      "|  f|  Fanny| 36|\n",
      "|  g|  Gabby| 60|\n",
      "+---+-------+---+\n",
      "\n",
      "+---+---+------------+\n",
      "|src|dst|relationship|\n",
      "+---+---+------------+\n",
      "|  a|  b|      friend|\n",
      "|  b|  c|      follow|\n",
      "|  c|  b|      follow|\n",
      "|  f|  c|      follow|\n",
      "|  e|  f|      follow|\n",
      "|  e|  d|      friend|\n",
      "|  d|  a|      friend|\n",
      "|  a|  e|      friend|\n",
      "|  q|  w|      friend|\n",
      "|  y|  z|      friend|\n",
      "+---+---+------------+\n",
      "\n"
     ]
    }
   ],
   "source": [
    "g.vertices.show()\n",
    "g.edges.show()\n"
   ]
  },
  {
   "cell_type": "markdown",
   "metadata": {},
   "source": [
    "* Motif finding"
   ]
  },
  {
   "cell_type": "code",
   "execution_count": 10,
   "metadata": {},
   "outputs": [
    {
     "name": "stdout",
     "output_type": "stream",
     "text": [
      "+----------------+--------------+----------------+--------------+\n",
      "|               a|             e|               b|            e2|\n",
      "+----------------+--------------+----------------+--------------+\n",
      "|[c, Charlie, 30]|[c, b, follow]|    [b, Bob, 36]|[b, c, follow]|\n",
      "|    [b, Bob, 36]|[b, c, follow]|[c, Charlie, 30]|[c, b, follow]|\n",
      "+----------------+--------------+----------------+--------------+\n",
      "\n",
      "+----------------+\n",
      "|               a|\n",
      "+----------------+\n",
      "|[c, Charlie, 30]|\n",
      "|    [b, Bob, 36]|\n",
      "+----------------+\n",
      "\n"
     ]
    }
   ],
   "source": [
    "# find all the users that follow each other\n",
    "motifs = g.find(\"(a)-[e]->(b);(b)-[e2]->(a)\")\n",
    "motifs.show()\n",
    "motifs.select(\"a\").show()"
   ]
  },
  {
   "cell_type": "code",
   "execution_count": 11,
   "metadata": {},
   "outputs": [
    {
     "name": "stdout",
     "output_type": "stream",
     "text": [
      "+---------------+--------------+---------------+--------------+---------------+--------------+----------------+\n",
      "|              a|            ab|              b|            bc|              c|            cd|               d|\n",
      "+---------------+--------------+---------------+--------------+---------------+--------------+----------------+\n",
      "| [d, David, 29]|[d, a, friend]| [a, Alice, 34]|[a, e, friend]|[e, Esther, 32]|[e, f, follow]|  [f, Fanny, 36]|\n",
      "|[e, Esther, 32]|[e, d, friend]| [d, David, 29]|[d, a, friend]| [a, Alice, 34]|[a, e, friend]| [e, Esther, 32]|\n",
      "| [d, David, 29]|[d, a, friend]| [a, Alice, 34]|[a, e, friend]|[e, Esther, 32]|[e, d, friend]|  [d, David, 29]|\n",
      "| [d, David, 29]|[d, a, friend]| [a, Alice, 34]|[a, b, friend]|   [b, Bob, 36]|[b, c, follow]|[c, Charlie, 30]|\n",
      "|[e, Esther, 32]|[e, d, friend]| [d, David, 29]|[d, a, friend]| [a, Alice, 34]|[a, b, friend]|    [b, Bob, 36]|\n",
      "| [a, Alice, 34]|[a, e, friend]|[e, Esther, 32]|[e, d, friend]| [d, David, 29]|[d, a, friend]|  [a, Alice, 34]|\n",
      "+---------------+--------------+---------------+--------------+---------------+--------------+----------------+\n",
      "\n"
     ]
    }
   ],
   "source": [
    "#Identify chains of 4 users/vertices such that at least 2 of the 3 edges are “friend” relationships. \n",
    "from pyspark.sql.types import BooleanType\n",
    "from pyspark.sql.functions import udf\n",
    "chain4 = g.find(\"(a)-[ab]->(b); (b)-[bc]->(c); (c)-[cd]->(d)\")\n",
    "def condition(ab,bc,cd):\n",
    "    first=(ab[\"relationship\"]== \"friend\")\n",
    "    second=(bc[\"relationship\"]== \"friend\")\n",
    "    third=(cd[\"relationship\"]== \"friend\")\n",
    "    return (int(first)+int(second)+int(third)>=2)\n",
    "\n",
    "conditionUDF = udf(condition,BooleanType())\n",
    "chainWith2Friends = chain4.filter(conditionUDF(chain4.ab,chain4.bc,chain4.cd))\n",
    "chainWith2Friends.show()"
   ]
  },
  {
   "cell_type": "markdown",
   "metadata": {},
   "source": [
    "* Subgraphs"
   ]
  },
  {
   "cell_type": "code",
   "execution_count": 13,
   "metadata": {},
   "outputs": [
    {
     "name": "stdout",
     "output_type": "stream",
     "text": [
      "+---+---+------------+\n",
      "|src|dst|relationship|\n",
      "+---+---+------------+\n",
      "|  a|  e|      friend|\n",
      "|  a|  b|      friend|\n",
      "+---+---+------------+\n",
      "\n",
      "+---+------+---+\n",
      "| id|  name|age|\n",
      "+---+------+---+\n",
      "|  e|Esther| 32|\n",
      "|  b|   Bob| 36|\n",
      "|  a| Alice| 34|\n",
      "+---+------+---+\n",
      "\n",
      "+---+---+------------+\n",
      "|src|dst|relationship|\n",
      "+---+---+------------+\n",
      "|  e|  f|      follow|\n",
      "|  c|  b|      follow|\n",
      "+---+---+------------+\n",
      "\n",
      "+---+-------+---+\n",
      "| id|   name|age|\n",
      "+---+-------+---+\n",
      "|  f|  Fanny| 36|\n",
      "|  e| Esther| 32|\n",
      "|  c|Charlie| 30|\n",
      "|  b|    Bob| 36|\n",
      "+---+-------+---+\n",
      "\n"
     ]
    }
   ],
   "source": [
    "# Option 1 filterVertices,filterEdges,DropIsolatedVertices\n",
    "g1 = g.filterVertices(\"age>30\")\n",
    "g2 = g1.filterEdges(\"relationship='friend'\")\n",
    "g3 = g2.dropIsolatedVertices()\n",
    "g3.edges.show()\n",
    "g3.vertices.show()\n",
    "# Option 2 Process edges/nodes adn recreate a now graph\n",
    "#(Select subgraph based on edges \"e\" of type \"follow\" pointing from a younger user \"a\" to an older user \"b\")\n",
    "paths = g.find(\"(a)-[e]->(b)\")\\\n",
    " .filter(\"e.relationship = 'follow'\")\\\n",
    " .filter(\"a.age < b.age\")\n",
    "e4 = paths.select(\"e.src\", \"e.dst\", \"e.relationship\")\n",
    "g4 = GraphFrame(g.vertices, e4).dropIsolatedVertices()\n",
    "g4.edges.show()\n",
    "g4.vertices.show()"
   ]
  },
  {
   "cell_type": "markdown",
   "metadata": {},
   "source": [
    "* Degrees"
   ]
  },
  {
   "cell_type": "code",
   "execution_count": 16,
   "metadata": {},
   "outputs": [
    {
     "name": "stdout",
     "output_type": "stream",
     "text": [
      "+---+------+\n",
      "| id|degree|\n",
      "+---+------+\n",
      "|  b|     3|\n",
      "|  c|     3|\n",
      "|  e|     3|\n",
      "|  a|     3|\n",
      "|  f|     2|\n",
      "|  d|     2|\n",
      "+---+------+\n",
      "\n",
      "+---+---------+\n",
      "| id|outDegree|\n",
      "+---+---------+\n",
      "|  f|        1|\n",
      "|  e|        2|\n",
      "|  d|        1|\n",
      "|  c|        1|\n",
      "|  b|        1|\n",
      "|  a|        2|\n",
      "+---+---------+\n",
      "\n",
      "+---+--------+\n",
      "| id|inDegree|\n",
      "+---+--------+\n",
      "|  f|       1|\n",
      "|  e|       1|\n",
      "|  d|       1|\n",
      "|  c|       2|\n",
      "|  b|       2|\n",
      "|  a|       1|\n",
      "+---+--------+\n",
      "\n"
     ]
    }
   ],
   "source": [
    "gDeg = g.degrees\n",
    "gDegSorted = gDeg.sort(\"degree\",ascending=False)\n",
    "gDegSorted.show()\n",
    "\n",
    "gOut=g.outDegrees\n",
    "gOut.filter(\"outDegree>0\").show()\n",
    "\n",
    "gIn = g.inDegrees\n",
    "gIn.filter(\"InDegree>0\").show()"
   ]
  },
  {
   "cell_type": "markdown",
   "metadata": {},
   "source": [
    "* Checkpoint directory"
   ]
  },
  {
   "cell_type": "code",
   "execution_count": null,
   "metadata": {},
   "outputs": [],
   "source": [
    "sc.setCheckpointDir('graphframes_ckpts_dir')"
   ]
  },
  {
   "cell_type": "markdown",
   "metadata": {},
   "source": [
    "* Breadth First Search (BFS)\n",
    "    --finds the shortest paths from one vertex to another vertex"
   ]
  },
  {
   "cell_type": "code",
   "execution_count": 18,
   "metadata": {},
   "outputs": [
    {
     "name": "stdout",
     "output_type": "stream",
     "text": [
      "+---------------+--------------+--------------+--------------+----------------+\n",
      "|           from|            e0|            v1|            e1|              to|\n",
      "+---------------+--------------+--------------+--------------+----------------+\n",
      "|[e, Esther, 32]|[e, f, follow]|[f, Fanny, 36]|[f, c, follow]|[c, Charlie, 30]|\n",
      "+---------------+--------------+--------------+--------------+----------------+\n",
      "\n",
      "+---------------+--------------+--------------+--------------+--------------+--------------+------------+\n",
      "|           from|            e0|            v1|            e1|            v2|            e2|          to|\n",
      "+---------------+--------------+--------------+--------------+--------------+--------------+------------+\n",
      "|[e, Esther, 32]|[e, d, friend]|[d, David, 29]|[d, a, friend]|[a, Alice, 34]|[a, b, friend]|[b, Bob, 36]|\n",
      "+---------------+--------------+--------------+--------------+--------------+--------------+------------+\n",
      "\n"
     ]
    }
   ],
   "source": [
    "#Search shortest path from \"Esther\" to \"Charlie\"\n",
    "paths = g.bfs(fromExpr=\"id = 'e'\", toExpr=\"id = 'c'\")\n",
    "paths.show()\n",
    "\n",
    "# Find the shortest path from Esther to users of age more than 34, without using edges of type “follow”\n",
    "paths2=g.bfs(\"name = 'Esther'\", \"age > 34\",edgeFilter=\"relationship != 'follow'\")\n",
    "paths2.show()"
   ]
  },
  {
   "cell_type": "markdown",
   "metadata": {},
   "source": [
    "* Shortest paths --computes length of shortest paths from each vertex to a given set of landmark vertices"
   ]
  },
  {
   "cell_type": "code",
   "execution_count": 19,
   "metadata": {},
   "outputs": [
    {
     "name": "stdout",
     "output_type": "stream",
     "text": [
      "+---+-------+---+----------------+\n",
      "| id|   name|age|       distances|\n",
      "+---+-------+---+----------------+\n",
      "|  g|  Gabby| 60|              []|\n",
      "|  b|    Bob| 36|              []|\n",
      "|  e| Esther| 32|[d -> 1, a -> 2]|\n",
      "|  a|  Alice| 34|[a -> 0, d -> 2]|\n",
      "|  f|  Fanny| 36|              []|\n",
      "|  d|  David| 29|[d -> 0, a -> 1]|\n",
      "|  c|Charlie| 30|              []|\n",
      "+---+-------+---+----------------+\n",
      "\n"
     ]
    }
   ],
   "source": [
    "landmarks=[\"a\", \"d\"]\n",
    "results = g.shortestPaths(landmarks=landmarks)\n",
    "results.show()"
   ]
  },
  {
   "cell_type": "markdown",
   "metadata": {},
   "source": [
    "* Connected components --need to set checkpoint directory"
   ]
  },
  {
   "cell_type": "code",
   "execution_count": 20,
   "metadata": {},
   "outputs": [
    {
     "name": "stdout",
     "output_type": "stream",
     "text": [
      "+---+-------+---+------------+\n",
      "| id|   name|age|   component|\n",
      "+---+-------+---+------------+\n",
      "|  g|  Gabby| 60|146028888064|\n",
      "|  a|  Alice| 34|412316860416|\n",
      "|  b|    Bob| 36|412316860416|\n",
      "|  c|Charlie| 30|412316860416|\n",
      "|  d|  David| 29|412316860416|\n",
      "|  f|  Fanny| 36|412316860416|\n",
      "|  e| Esther| 32|412316860416|\n",
      "+---+-------+---+------------+\n",
      "\n",
      "Number of connected components:  2\n"
     ]
    }
   ],
   "source": [
    "sc.setCheckpointDir(\"tmp_ckpts\")\n",
    "connComp=g.connectedComponents()\n",
    "#show results. Order by component in order to have nodes of the same component in adjacent rows\n",
    "connComp.orderBy(\"component\").show()\n",
    "\n",
    "nComp=connComp.select(\"component\").distinct().count()\n",
    "print(\"Number of connected components: \", nComp)"
   ]
  },
  {
   "cell_type": "markdown",
   "metadata": {},
   "source": [
    "* Strongly connected componenets"
   ]
  },
  {
   "cell_type": "code",
   "execution_count": 21,
   "metadata": {},
   "outputs": [
    {
     "name": "stdout",
     "output_type": "stream",
     "text": [
      "+---+-------+---+-------------+\n",
      "| id|   name|age|    component|\n",
      "+---+-------+---+-------------+\n",
      "|  g|  Gabby| 60| 146028888064|\n",
      "|  f|  Fanny| 36| 412316860416|\n",
      "|  e| Esther| 32| 670014898176|\n",
      "|  d|  David| 29| 670014898176|\n",
      "|  a|  Alice| 34| 670014898176|\n",
      "|  b|    Bob| 36|1047972020224|\n",
      "|  c|Charlie| 30|1047972020224|\n",
      "+---+-------+---+-------------+\n",
      "\n",
      "Number of strongly connected components:  4\n"
     ]
    }
   ],
   "source": [
    "sc.setCheckpointDir(\"tmp_ckpts\")\n",
    "strongConnComp = g.stronglyConnectedComponents(maxIter=10)\n",
    "strongConnComp.orderBy(\"component\").show()\n",
    "nComp=strongConnComp.select(\"component\").distinct().count()\n",
    "print(\"Number of strongly connected components: \", nComp)"
   ]
  },
  {
   "cell_type": "markdown",
   "metadata": {},
   "source": [
    "* Label propagation --for detecting communities in graphs"
   ]
  },
  {
   "cell_type": "code",
   "execution_count": 22,
   "metadata": {},
   "outputs": [
    {
     "name": "stdout",
     "output_type": "stream",
     "text": [
      "+---+-------------+\n",
      "| id|        label|\n",
      "+---+-------------+\n",
      "|  g| 146028888064|\n",
      "|  a| 412316860416|\n",
      "|  d| 412316860416|\n",
      "|  e| 670014898176|\n",
      "|  c|1047972020224|\n",
      "|  b|1382979469312|\n",
      "|  f|1382979469312|\n",
      "+---+-------------+\n",
      "\n"
     ]
    }
   ],
   "source": [
    "result = g.labelPropagation(maxIter=20)\n",
    "result.select(\"id\", \"label\").orderBy(\"label\").show()"
   ]
  },
  {
   "cell_type": "markdown",
   "metadata": {},
   "source": [
    "* PageRank"
   ]
  },
  {
   "cell_type": "code",
   "execution_count": 23,
   "metadata": {},
   "outputs": [
    {
     "name": "stdout",
     "output_type": "stream",
     "text": [
      "+---+-------+---+-------------------+\n",
      "|id |name   |age|pagerank           |\n",
      "+---+-------+---+-------------------+\n",
      "|g  |Gabby  |60 |0.20481473364387334|\n",
      "|b  |Bob    |36 |2.6151501884736303 |\n",
      "|e  |Esther |32 |0.3972957800461297 |\n",
      "|a  |Alice  |34 |0.45289657977001485|\n",
      "|f  |Fanny  |36 |0.360301118781705  |\n",
      "|d  |David  |29 |0.360301118781705  |\n",
      "|c  |Charlie|30 |2.6092404805029425 |\n",
      "+---+-------+---+-------------------+\n",
      "\n",
      "+---+-------+---+-----------------+\n",
      "|id |name   |age|pagerank         |\n",
      "+---+-------+---+-----------------+\n",
      "|g  |Gabby  |60 |0.0              |\n",
      "|b  |Bob    |36 |0.542517589576432|\n",
      "|e  |Esther |32 |0.0              |\n",
      "|a  |Alice  |34 |0.0              |\n",
      "|f  |Fanny  |36 |0.0              |\n",
      "|d  |David  |29 |0.0              |\n",
      "|c  |Charlie|30 |0.457482410423568|\n",
      "+---+-------+---+-----------------+\n",
      "\n"
     ]
    }
   ],
   "source": [
    "# Run PageRank until convergence to tolerance \"tol\".\n",
    "results = g.pageRank(tol=0.03)\n",
    "# Display resulting pageranks\n",
    "results.vertices.show(truncate=False)\n",
    "# Run PersonalizedPageRank until convergence to tolerance \"tol\".\n",
    "resultsPers = g.pageRank(tol=0.03,sourceId=\"b\")\n",
    "# Display resulting pageranks\n",
    "resultsPers.vertices.show(truncate=False)"
   ]
  },
  {
   "cell_type": "markdown",
   "metadata": {},
   "source": [
    "* custom graph algorithms"
   ]
  },
  {
   "cell_type": "code",
   "execution_count": 24,
   "metadata": {},
   "outputs": [
    {
     "name": "stdout",
     "output_type": "stream",
     "text": [
      "+---+--------+\n",
      "| id|sum(MSG)|\n",
      "+---+--------+\n",
      "|  f|      62|\n",
      "|  e|      99|\n",
      "|  d|      66|\n",
      "|  c|     108|\n",
      "|  b|      94|\n",
      "|  a|      97|\n",
      "+---+--------+\n",
      "\n"
     ]
    }
   ],
   "source": [
    "from pyspark.sql.functions import sum as sqlsum\n",
    "from graphframes.lib import AggregateMessages\n",
    "# For each user, sum the ages of the adjacent users.\n",
    "msgToSrc = AggregateMessages.dst[\"age\"]\n",
    "msgToDst = AggregateMessages.src[\"age\"]\n",
    "agg = g.aggregateMessages(\n",
    " sqlsum(AggregateMessages.msg),\n",
    " sendToSrc=msgToSrc,\n",
    " sendToDst=msgToDst)\n",
    "agg.show()"
   ]
  },
  {
   "cell_type": "markdown",
   "metadata": {},
   "source": [
    "* Visualization of a graph"
   ]
  },
  {
   "cell_type": "code",
   "execution_count": 26,
   "metadata": {},
   "outputs": [
    {
     "data": {
      "image/png": "[encoded data removed]",
      "text/plain": [
       "<Figure size 432x288 with 1 Axes>"
      ]
     },
     "metadata": {},
     "output_type": "display_data"
    }
   ],
   "source": [
    "# with networkx\n",
    "import networkx as nx \n",
    "def xGraph(edge_list,node_list):\n",
    "    Gplot=nx.DiGraph()\n",
    "    edges=edge_list.collect()\n",
    "    nodes=node_list.collect()\n",
    "    for row in edges:\n",
    "        Gplot.add_edge(row['src'],row['dst'])\n",
    "    for row in nodes:\n",
    "        Gplot.add_node(row['id'])\n",
    "    return Gplot\n",
    "Gplot=xGraph(g.edges,g.vertices)\n",
    "nx.draw(Gplot, with_labels=True, font_weight='bold')"
   ]
  },
  {
   "cell_type": "code",
   "execution_count": null,
   "metadata": {},
   "outputs": [],
   "source": [
    "# "
   ]
  },
  {
   "cell_type": "code",
   "execution_count": null,
   "metadata": {},
   "outputs": [],
   "source": []
  },
  {
   "cell_type": "code",
   "execution_count": null,
   "metadata": {},
   "outputs": [],
   "source": []
  },
  {
   "cell_type": "code",
   "execution_count": null,
   "metadata": {},
   "outputs": [],
   "source": []
  },
  {
   "cell_type": "code",
   "execution_count": null,
   "metadata": {},
   "outputs": [],
   "source": []
  },
  {
   "cell_type": "code",
   "execution_count": null,
   "metadata": {},
   "outputs": [],
   "source": []
  },
  {
   "cell_type": "code",
   "execution_count": null,
   "metadata": {},
   "outputs": [],
   "source": []
  },
  {
   "cell_type": "code",
   "execution_count": null,
   "metadata": {},
   "outputs": [],
   "source": []
  }
 ],
 "metadata": {
  "kernelspec": {
   "display_name": "GraphFrames (Yarn)",
   "language": "python",
   "name": "graphframe_yarn"
  },
  "language_info": {
   "codemirror_mode": {
    "name": "ipython",
    "version": 3
   },
   "file_extension": ".py",
   "mimetype": "text/x-python",
   "name": "python",
   "nbconvert_exporter": "python",
   "pygments_lexer": "ipython3",
   "version": "3.7.9"
  }
 },
 "nbformat": 4,
 "nbformat_minor": 4
}
