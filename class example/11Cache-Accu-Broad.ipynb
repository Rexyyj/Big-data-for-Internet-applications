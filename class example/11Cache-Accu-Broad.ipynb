{
 "cells": [
  {
   "cell_type": "markdown",
   "metadata": {},
   "source": [
    "* cache"
   ]
  },
  {
   "cell_type": "code",
   "execution_count": 3,
   "metadata": {},
   "outputs": [],
   "source": [
    "inputRDD = sc.textFile(\"/data/students/bigdata_internet/lab2/finefoods_text.txt\").cache()"
   ]
  },
  {
   "cell_type": "code",
   "execution_count": 6,
   "metadata": {},
   "outputs": [],
   "source": [
    "def toWord(line):\n",
    "    words=[]\n",
    "    for word in line.split(' '):\n",
    "        if word != '':\n",
    "            words.append(word)\n",
    "    return words\n",
    "wordRDD = inputRDD.flatMap(toWord)"
   ]
  },
  {
   "cell_type": "code",
   "execution_count": 7,
   "metadata": {},
   "outputs": [
    {
     "name": "stdout",
     "output_type": "stream",
     "text": [
      "number of words: 45444841\n",
      "number of distinct words: 339820\n"
     ]
    }
   ],
   "source": [
    "print(\"number of words:\",wordRDD.count())\n",
    "print(\"number of distinct words:\",wordRDD.distinct().count())\n",
    "#?????not sure working or not"
   ]
  },
  {
   "cell_type": "markdown",
   "metadata": {},
   "source": [
    "* Accumulators"
   ]
  },
  {
   "cell_type": "code",
   "execution_count": 17,
   "metadata": {},
   "outputs": [
    {
     "name": "stdout",
     "output_type": "stream",
     "text": [
      "['123@outlook.com', 'jks@jks.com', '12354', 'jia.com', 'djs@1.com', 'djkal']\n",
      "['123@outlook.com', 'jks@jks.com', 'djs@1.com']\n",
      "Invalid email addresses:  3\n"
     ]
    }
   ],
   "source": [
    "# Define an accumulator. Initialize it to 0\n",
    "invalidEmails = sc.accumulator(0)\n",
    "# Read the content of the input textual file\n",
    "emailsRDD = sc.textFile(\"emails.txt\")\n",
    "print(emailsRDD.collect())\n",
    "#Define the filtering function\n",
    "def validEmailFunc(line):\n",
    "    if (line.find('@')<0):\n",
    "        invalidEmails.add(1)\n",
    "        return False\n",
    "    else:\n",
    "        return True\n",
    "# Select only valid emails\n",
    "# Count also the number of invalid emails\n",
    "validEmailsRDD = emailsRDD.filter(validEmailFunc)\n",
    "print(validEmailsRDD.collect())\n",
    "print(\"Invalid email addresses: \", invalidEmails.value)"
   ]
  },
  {
   "cell_type": "markdown",
   "metadata": {},
   "source": [
    "* Broadcast variables"
   ]
  },
  {
   "cell_type": "code",
   "execution_count": 18,
   "metadata": {},
   "outputs": [],
   "source": [
    "# a little bit complex"
   ]
  },
  {
   "cell_type": "code",
   "execution_count": null,
   "metadata": {},
   "outputs": [],
   "source": []
  },
  {
   "cell_type": "code",
   "execution_count": null,
   "metadata": {},
   "outputs": [],
   "source": []
  },
  {
   "cell_type": "code",
   "execution_count": null,
   "metadata": {},
   "outputs": [],
   "source": []
  },
  {
   "cell_type": "code",
   "execution_count": null,
   "metadata": {},
   "outputs": [],
   "source": []
  }
 ],
 "metadata": {
  "kernelspec": {
   "display_name": "PySpark (Local)",
   "language": "python",
   "name": "pyspark_local"
  },
  "language_info": {
   "codemirror_mode": {
    "name": "ipython",
    "version": 3
   },
   "file_extension": ".py",
   "mimetype": "text/x-python",
   "name": "python",
   "nbconvert_exporter": "python",
   "pygments_lexer": "ipython3",
   "version": "3.7.7"
  }
 },
 "nbformat": 4,
 "nbformat_minor": 4
}
