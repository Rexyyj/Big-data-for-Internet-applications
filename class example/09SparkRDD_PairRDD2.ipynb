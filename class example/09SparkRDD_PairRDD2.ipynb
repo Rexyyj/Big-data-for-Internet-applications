{
 "cells": [
  {
   "cell_type": "markdown",
   "metadata": {},
   "source": [
    "**Transformations on two RDDs pf key-value paris**"
   ]
  },
  {
   "cell_type": "markdown",
   "metadata": {},
   "source": [
    "* SubtractByKey transformation"
   ]
  },
  {
   "cell_type": "code",
   "execution_count": 2,
   "metadata": {},
   "outputs": [
    {
     "name": "stdout",
     "output_type": "stream",
     "text": [
      "[('PaoloG', 40)]\n"
     ]
    }
   ],
   "source": [
    "profiles = [(\"PaoloG\",40),(\"Giorgio\",22),(\"PaoloB\",35)]\n",
    "profilesPairRDD = sc.parallelize(profiles)\n",
    "banned = [(\"PaoloB\",\"spam\"),(\"Giorgio\",\"Vandalism\")]\n",
    "bannedPairRDD = sc.parallelize(banned)\n",
    "\n",
    "selectProfiles= profilesPairRDD.subtractByKey(bannedPairRDD)\n",
    "print(selectProfiles.collect())"
   ]
  },
  {
   "cell_type": "markdown",
   "metadata": {},
   "source": [
    "* Join transformation"
   ]
  },
  {
   "cell_type": "code",
   "execution_count": 4,
   "metadata": {},
   "outputs": [
    {
     "name": "stdout",
     "output_type": "stream",
     "text": [
      "[(1, ('What is .. ?', 'It is a car')), (1, ('What is .. ?', 'It is a byke')), (2, ('Who is ..?', 'She is Jenny')), (2, ('Who was ..?', 'She is Jenny'))]\n"
     ]
    }
   ],
   "source": [
    "questions= [(1, \"What is .. ?\"), (2, \"Who is ..?\"),(2, \"Who was ..?\")]\n",
    "questionsPairRDD = sc.parallelize (questions)\n",
    "answers = [(1, \"It is a car\"), (1, \"It is a byke\"), (2, \"She is Jenny\")]\n",
    "answersPairRDD= sc.parallelize(answers)\n",
    "joinPairRDD= questionsPairRDD.join(answersPairRDD)\n",
    "print(joinPairRDD.collect())"
   ]
  },
  {
   "cell_type": "markdown",
   "metadata": {},
   "source": [
    "* CoGroup transformation"
   ]
  },
  {
   "cell_type": "code",
   "execution_count": 5,
   "metadata": {},
   "outputs": [
    {
     "name": "stdout",
     "output_type": "stream",
     "text": [
      "[(1, (<pyspark.resultiterable.ResultIterable object at 0x7f2c0cdf9950>, <pyspark.resultiterable.ResultIterable object at 0x7f2c0cdf9d50>)), (2, (<pyspark.resultiterable.ResultIterable object at 0x7f2c0cdf9450>, <pyspark.resultiterable.ResultIterable object at 0x7f2c0cdf98d0>))]\n"
     ]
    }
   ],
   "source": [
    "movies= [(1, \"Star Trek\"), (1, \"Forrest Gump\"), (2, \"Forrest Gump\")]\n",
    "moviesPairRDD = sc.parallelize(movies)\n",
    "directors = [ (1, \"Woody Allen\"), (2, \"Quentin Tarantino\"), (2, \"Alfred Hitchcock\")]\n",
    "directorsPairRDD = sc.parallelize(directors)\n",
    "cogroupPairRDD = moviesPairRDD.cogroup(directorsPairRDD)\n",
    "print(cogroupPairRDD.collect())"
   ]
  },
  {
   "cell_type": "code",
   "execution_count": null,
   "metadata": {},
   "outputs": [],
   "source": []
  },
  {
   "cell_type": "markdown",
   "metadata": {},
   "source": [
    "**Actions on RDDs of key-value paris**"
   ]
  },
  {
   "cell_type": "markdown",
   "metadata": {},
   "source": [
    "* CountByKey action"
   ]
  },
  {
   "cell_type": "code",
   "execution_count": 6,
   "metadata": {},
   "outputs": [
    {
     "name": "stdout",
     "output_type": "stream",
     "text": [
      "defaultdict(<class 'int'>, {'Forrest Gump': 2, 'Star Trek': 1})\n"
     ]
    }
   ],
   "source": [
    "movieRating= [(\"Forrest Gump\", 4), (\"Star Trek\", 5), (\"Forrest Gump\", 3)]\n",
    "movieRatingRDD= sc.parallelize(movieRating)\n",
    "movieNumRatings = movieRatingRDD.countByKey()\n",
    "print(movieNumRatings)"
   ]
  },
  {
   "cell_type": "markdown",
   "metadata": {},
   "source": [
    "* CollectAsMap action"
   ]
  },
  {
   "cell_type": "code",
   "execution_count": 10,
   "metadata": {},
   "outputs": [
    {
     "name": "stdout",
     "output_type": "stream",
     "text": [
      "{'User1': 'Paolo', 'User2': 'Luca', 'User3': 'Daniele'}\n"
     ]
    }
   ],
   "source": [
    "users = [(\"User1\", \"Paolo\"), (\"User2\", \"Luca\"),(\"User2\", \"Luca\"), (\"User3\", \"Daniele\")]\n",
    "usersRDD= sc.parallelize(users)\n",
    "retrievedPairs = usersRDD.collectAsMap()\n",
    "print(retrievedPairs)"
   ]
  },
  {
   "cell_type": "markdown",
   "metadata": {},
   "source": [
    "* Lookup action"
   ]
  },
  {
   "cell_type": "code",
   "execution_count": 11,
   "metadata": {},
   "outputs": [
    {
     "name": "stdout",
     "output_type": "stream",
     "text": [
      "[4, 3]\n"
     ]
    }
   ],
   "source": [
    "movieRating= [(\"Forrest Gump\", 4), (\"Star Trek\", 5), (\"Forrest Gump\", 3)]\n",
    "movieRatingRDD= sc.parallelize(movieRating)\n",
    "movieRatings = movieRatingRDD.lookup(\"Forrest Gump\")\n",
    "print(movieRatings)"
   ]
  },
  {
   "cell_type": "code",
   "execution_count": null,
   "metadata": {},
   "outputs": [],
   "source": []
  },
  {
   "cell_type": "code",
   "execution_count": null,
   "metadata": {},
   "outputs": [],
   "source": []
  },
  {
   "cell_type": "code",
   "execution_count": null,
   "metadata": {},
   "outputs": [],
   "source": []
  },
  {
   "cell_type": "code",
   "execution_count": null,
   "metadata": {},
   "outputs": [],
   "source": []
  },
  {
   "cell_type": "code",
   "execution_count": null,
   "metadata": {},
   "outputs": [],
   "source": []
  },
  {
   "cell_type": "code",
   "execution_count": null,
   "metadata": {},
   "outputs": [],
   "source": []
  },
  {
   "cell_type": "code",
   "execution_count": null,
   "metadata": {},
   "outputs": [],
   "source": []
  },
  {
   "cell_type": "code",
   "execution_count": null,
   "metadata": {},
   "outputs": [],
   "source": []
  }
 ],
 "metadata": {
  "kernelspec": {
   "display_name": "PySpark (Local)",
   "language": "python",
   "name": "pyspark_local"
  },
  "language_info": {
   "codemirror_mode": {
    "name": "ipython",
    "version": 3
   },
   "file_extension": ".py",
   "mimetype": "text/x-python",
   "name": "python",
   "nbconvert_exporter": "python",
   "pygments_lexer": "ipython3",
   "version": "3.7.7"
  }
 },
 "nbformat": 4,
 "nbformat_minor": 4
}
