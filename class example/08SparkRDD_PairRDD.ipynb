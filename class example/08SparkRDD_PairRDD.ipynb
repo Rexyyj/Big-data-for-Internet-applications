{
 "cells": [
  {
   "cell_type": "markdown",
   "metadata": {},
   "source": [
    "* Map transfermation"
   ]
  },
  {
   "cell_type": "code",
   "execution_count": null,
   "metadata": {},
   "outputs": [],
   "source": [
    "namesRDD=sc.textFile(\"test.txt\")\n",
    "print(namesRDD.collect())\n",
    "# nameOnePairRDD=namesRDD.map(lambda name:(name,1))\n",
    "# print(nameOnePairRDD.collect())\n"
   ]
  },
  {
   "cell_type": "markdown",
   "metadata": {},
   "source": [
    "* flatMap transfromation"
   ]
  },
  {
   "cell_type": "code",
   "execution_count": 15,
   "metadata": {},
   "outputs": [],
   "source": [
    "linesRDD=sc.textFile(\"/home/student/s287513/class/examples/data/article.txt\")\n",
    "wordOnePairRDD=linesRDD.flatMap(lambda line:\\\n",
    "                               map(lambda w:(w,1),line.split(\" \")))\n"
   ]
  },
  {
   "cell_type": "markdown",
   "metadata": {},
   "source": [
    "* key-value pair by using parallelize"
   ]
  },
  {
   "cell_type": "code",
   "execution_count": 8,
   "metadata": {},
   "outputs": [
    {
     "name": "stdout",
     "output_type": "stream",
     "text": [
      "[('Palop', 40), ('Rex', 20), ('Tim', 100), ('Rex', 50)]\n"
     ]
    }
   ],
   "source": [
    "nameAge=[(\"Palop\",40),(\"Rex\",20),(\"Tim\",100),(\"Rex\",50)]\n",
    "nameAgePairRDD=sc.parallelize(nameAge)\n",
    "print(nameAgePairRDD.collect())"
   ]
  },
  {
   "cell_type": "markdown",
   "metadata": {},
   "source": [
    "* ReduceByKey transfromation"
   ]
  },
  {
   "cell_type": "code",
   "execution_count": 17,
   "metadata": {},
   "outputs": [
    {
     "name": "stdout",
     "output_type": "stream",
     "text": [
      "[('Rex', 20), ('Tim', 100), ('Palop', 40)]\n"
     ]
    }
   ],
   "source": [
    "youngestPairRDD= nameAgePairRDD.reduceByKey(lambda age1,age2:\\\n",
    "                                           min(age1,age2))\n",
    "print(youngestPairRDD.collect())"
   ]
  },
  {
   "cell_type": "markdown",
   "metadata": {},
   "source": [
    "* FoldByKey transformation"
   ]
  },
  {
   "cell_type": "code",
   "execution_count": 5,
   "metadata": {},
   "outputs": [
    {
     "name": "stdout",
     "output_type": "stream",
     "text": [
      "[('Rex', 'Msg2Msg4'), ('Tim', 'Msg3'), ('Palop', 'Msg1')]\n"
     ]
    }
   ],
   "source": [
    "nameMsg=[(\"Palop\",\"Msg1\"),(\"Rex\",\"Msg2\"),(\"Tim\",\"Msg3\"),(\"Rex\",\"Msg4\")]\n",
    "nameMsgPairRDD=sc.parallelize(nameMsg)\n",
    "\n",
    "concatPairRDD=nameMsgPairRDD.foldByKey(\"\",lambda m1,m2:m1+m2)\n",
    "print(concatPairRDD.collect())"
   ]
  },
  {
   "cell_type": "markdown",
   "metadata": {},
   "source": [
    "* CombineByKey transformation ????"
   ]
  },
  {
   "cell_type": "code",
   "execution_count": 16,
   "metadata": {},
   "outputs": [
    {
     "name": "stdout",
     "output_type": "stream",
     "text": [
      "[('Palop', 40), ('Rex', 20), ('Tim', 100), ('Rex', 50)]\n",
      "PythonRDD[69] at RDD at PythonRDD.scala:53\n"
     ]
    }
   ],
   "source": [
    "print(nameAgePairRDD.collect())\n",
    "sumNumPerNamePairRDD= nameAgePairRDD.combineByKey(\\\n",
    "                                                 lambda inputElem:(inputElme,1),\\\n",
    "                                                 lambda intermediateElem,inputElem:(intermediateElem[0]+inputElme,intermediateElem[1]+1),\\\n",
    "                                                 lambda intermediateElem1,intermediateElem2:\\\n",
    "                                                 (intermediateElem1[0]+intermediateElem2[0],intermediateElem1[1]+intermediateElem2[1]))\n",
    "print(sumNumPerNamePairRDD)\n",
    "# avgPerNamePairRDD.saveAsTextFile(\"result.txt\")"
   ]
  },
  {
   "cell_type": "markdown",
   "metadata": {},
   "source": [
    "* GroupByKey transformation"
   ]
  },
  {
   "cell_type": "code",
   "execution_count": 18,
   "metadata": {},
   "outputs": [
    {
     "name": "stdout",
     "output_type": "stream",
     "text": [
      "Rex\n",
      "<pyspark.resultiterable.ResultIterable object at 0x7f0f6f045a10>\n"
     ]
    }
   ],
   "source": [
    "nameAge=[(\"Palop\",40),(\"Rex\",20),(\"Tim\",100),(\"Rex\",50)]\n",
    "nameAgePairRDD=sc.parallelize(nameAge)\n",
    "agesPerNamePairRDD=nameAgePairRDD.groupByKey()\n",
    "#agesPerNamePairRDD.saveAsTextFile('./groupByKey.txt')\n",
    "key,val = agesPerNamePairRDD.take(1)[0]\n",
    "print(key)\n",
    "print(val)"
   ]
  },
  {
   "cell_type": "markdown",
   "metadata": {},
   "source": [
    "* MapValue transformation"
   ]
  },
  {
   "cell_type": "code",
   "execution_count": 19,
   "metadata": {},
   "outputs": [
    {
     "name": "stdout",
     "output_type": "stream",
     "text": [
      "[('Palop', 41), ('Rex', 21), ('Tim', 101), ('Rex', 51)]\n"
     ]
    }
   ],
   "source": [
    "nameAge=[(\"Palop\",40),(\"Rex\",20),(\"Tim\",100),(\"Rex\",50)]\n",
    "nameAgePairRDD=sc.parallelize(nameAge)\n",
    "plusOnePairRDD = nameAgePairRDD.mapValues(lambda age:age+1)\n",
    "print(plusOnePairRDD.collect())"
   ]
  },
  {
   "cell_type": "markdown",
   "metadata": {},
   "source": [
    "* FlatMapValue transformation"
   ]
  },
  {
   "cell_type": "code",
   "execution_count": 21,
   "metadata": {},
   "outputs": [
    {
     "name": "stdout",
     "output_type": "stream",
     "text": [
      "[('Sentence#1', 'Sentence'), ('Sentence#1', 'test'), ('Sentence#2', 'Sentence'), ('Sentence#2', 'test'), ('Sentence#2', 'number'), ('Sentence#2', '2'), ('Sentence#3', 'Sentence'), ('Sentence#3', 'test'), ('Sentence#3', 'number'), ('Sentence#3', '3')]\n"
     ]
    }
   ],
   "source": [
    "sentences = [(\"Sentence#1\", \"Sentence test\"), \\\n",
    "            (\"Sentence#2\", \"Sentence test number 2\"), \\\n",
    "            (\"Sentence#3\", \"Sentence test number 3\") ]\n",
    "sentPairRDD=sc.parallelize(sentences)\n",
    "sentIdWordRDD=sentPairRDD.flatMapValues(lambda s:s.split(' '))\n",
    "print(sentIdWordRDD.collect())"
   ]
  },
  {
   "cell_type": "markdown",
   "metadata": {},
   "source": [
    "* Keys transformation"
   ]
  },
  {
   "cell_type": "code",
   "execution_count": 22,
   "metadata": {},
   "outputs": [
    {
     "name": "stdout",
     "output_type": "stream",
     "text": [
      "['Palop', 'Rex', 'Tim', 'Rex']\n"
     ]
    }
   ],
   "source": [
    "nameAge=[(\"Palop\",40),(\"Rex\",20),(\"Tim\",100),(\"Rex\",50)]\n",
    "nameAgePairRDD=sc.parallelize(nameAge)\n",
    "namesRDD= nameAgePairRDD.keys()\n",
    "print(namesRDD.collect())"
   ]
  },
  {
   "cell_type": "markdown",
   "metadata": {},
   "source": [
    "* Values transform"
   ]
  },
  {
   "cell_type": "code",
   "execution_count": 23,
   "metadata": {},
   "outputs": [
    {
     "name": "stdout",
     "output_type": "stream",
     "text": [
      "[40, 20, 100, 50]\n"
     ]
    }
   ],
   "source": [
    "nameAge=[(\"Palop\",40),(\"Rex\",20),(\"Tim\",100),(\"Rex\",50)]\n",
    "nameAgePairRDD=sc.parallelize(nameAge)\n",
    "valuesRDD= nameAgePairRDD.values()\n",
    "print(valuesRDD.collect())"
   ]
  },
  {
   "cell_type": "markdown",
   "metadata": {},
   "source": [
    "* SortByKey transformation"
   ]
  },
  {
   "cell_type": "code",
   "execution_count": 25,
   "metadata": {},
   "outputs": [
    {
     "name": "stdout",
     "output_type": "stream",
     "text": [
      "[('Palop', 40), ('Rex', 20), ('Rex', 50), ('Tim', 100)]\n",
      "[('Tim', 100), ('Rex', 20), ('Rex', 50), ('Palop', 40)]\n"
     ]
    }
   ],
   "source": [
    "nameAge=[(\"Palop\",40),(\"Rex\",20),(\"Tim\",100),(\"Rex\",50)]\n",
    "nameAgePairRDD=sc.parallelize(nameAge)\n",
    "sortedNameAgePairRDD=nameAgePairRDD.sortByKey()\n",
    "print(sortedNameAgePairRDD.collect())\n",
    "sortedNameAgePairRDD_ascending= nameAgePairRDD.sortByKey(ascending=False)\n",
    "print(sortedNameAgePairRDD_ascending.collect())"
   ]
  },
  {
   "cell_type": "code",
   "execution_count": null,
   "metadata": {},
   "outputs": [],
   "source": []
  },
  {
   "cell_type": "code",
   "execution_count": null,
   "metadata": {},
   "outputs": [],
   "source": []
  },
  {
   "cell_type": "code",
   "execution_count": null,
   "metadata": {},
   "outputs": [],
   "source": []
  },
  {
   "cell_type": "code",
   "execution_count": null,
   "metadata": {},
   "outputs": [],
   "source": []
  },
  {
   "cell_type": "code",
   "execution_count": null,
   "metadata": {},
   "outputs": [],
   "source": []
  }
 ],
 "metadata": {
  "kernelspec": {
   "display_name": "PySpark (Local)",
   "language": "python",
   "name": "pyspark_local"
  },
  "language_info": {
   "codemirror_mode": {
    "name": "ipython",
    "version": 3
   },
   "file_extension": ".py",
   "mimetype": "text/x-python",
   "name": "python",
   "nbconvert_exporter": "python",
   "pygments_lexer": "ipython3",
   "version": "3.7.7"
  }
 },
 "nbformat": 4,
 "nbformat_minor": 4
}
