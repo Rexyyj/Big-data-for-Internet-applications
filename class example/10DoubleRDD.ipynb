{
 "cells": [
  {
   "cell_type": "markdown",
   "metadata": {},
   "source": [
    "**RDDs of numbers**"
   ]
  },
  {
   "cell_type": "code",
   "execution_count": 1,
   "metadata": {},
   "outputs": [
    {
     "name": "stdout",
     "output_type": "stream",
     "text": [
      "sum: 7.0\n",
      "mean: 2.3333333333333335\n",
      "stdev: 0.8498365855987975\n",
      "variance: 0.7222222222222222\n",
      "max: 3.5\n",
      "min: 1.5\n"
     ]
    }
   ],
   "source": [
    "inputRDD= sc.parallelize([1.5, 3.5, 2.0])\n",
    "print(\"sum:\", inputRDD.sum())\n",
    "print(\"mean:\", inputRDD.mean())\n",
    "print(\"stdev:\", inputRDD.stdev())\n",
    "print(\"variance:\", inputRDD.variance())\n",
    "print(\"max:\", inputRDD.max())\n",
    "print(\"min:\", inputRDD.min())"
   ]
  },
  {
   "cell_type": "code",
   "execution_count": null,
   "metadata": {},
   "outputs": [],
   "source": []
  }
 ],
 "metadata": {
  "kernelspec": {
   "display_name": "PySpark (Local)",
   "language": "python",
   "name": "pyspark_local"
  },
  "language_info": {
   "codemirror_mode": {
    "name": "ipython",
    "version": 3
   },
   "file_extension": ".py",
   "mimetype": "text/x-python",
   "name": "python",
   "nbconvert_exporter": "python",
   "pygments_lexer": "ipython3",
   "version": "3.7.7"
  }
 },
 "nbformat": 4,
 "nbformat_minor": 4
}
